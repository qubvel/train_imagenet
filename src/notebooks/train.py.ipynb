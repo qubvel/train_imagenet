{
 "cells": [
  {
   "cell_type": "code",
   "execution_count": 1,
   "metadata": {
    "collapsed": true
   },
   "outputs": [],
   "source": [
    "import os\n",
    "import sys\n",
    "import json\n",
    "\n",
    "os.environ['CUDA_VISIBLE_DEVICES']='1'\n",
    "sys.path.append('..')\n",
    "\n",
    "import config"
   ]
  },
  {
   "cell_type": "code",
   "execution_count": 2,
   "metadata": {},
   "outputs": [
    {
     "name": "stderr",
     "output_type": "stream",
     "text": [
      "Using TensorFlow backend.\n"
     ]
    }
   ],
   "source": [
    "from utils.dataset import ImageNetDataset\n",
    "from utils.transform import train_transform, valid_transform\n",
    "from utils.generator import generator\n",
    "from utils.callbacks import get_callbacks"
   ]
  },
  {
   "cell_type": "markdown",
   "metadata": {},
   "source": [
    "# Prepare data"
   ]
  },
  {
   "cell_type": "code",
   "execution_count": 3,
   "metadata": {
    "collapsed": true
   },
   "outputs": [],
   "source": [
    "# labels mapping\n",
    "with open(config.MAP_CLS) as f:\n",
    "    label_to_class = json.load(f)  \n",
    "folder_to_label = {v[0]: k for k, v in label_to_class.items()}"
   ]
  },
  {
   "cell_type": "code",
   "execution_count": 4,
   "metadata": {},
   "outputs": [],
   "source": [
    "# prepare datasets\n",
    "train_dataset = ImageNetDataset(config.TRAIN_DIR, folder_to_label, transform=train_transform)\n",
    "valid_dataset = ImageNetDataset(config.VALID_DIR, folder_to_label, transform=valid_transform)\n",
    "\n",
    "# prepare generators \n",
    "train_gen = generator(train_dataset, batch_size=16, num_workers=12, shuffle=True)\n",
    "valid_gen = generator(valid_dataset, batch_size=1, num_workers=12, shuffle=True)"
   ]
  },
  {
   "cell_type": "markdown",
   "metadata": {},
   "source": [
    "# Build Model"
   ]
  },
  {
   "cell_type": "code",
   "execution_count": 5,
   "metadata": {
    "collapsed": true
   },
   "outputs": [],
   "source": [
    "from nn_models.dpn import DPN92\n",
    "from keras.optimizers import SGD"
   ]
  },
  {
   "cell_type": "code",
   "execution_count": 6,
   "metadata": {},
   "outputs": [],
   "source": [
    "# prepare model\n",
    "\n",
    "model = DPN92(input_shape=(224, 224, 3))\n",
    "model.compile('Adam', 'categorical_crossentropy', \n",
    "              ['categorical_accuracy', 'top_k_categorical_accuracy'])"
   ]
  },
  {
   "cell_type": "code",
   "execution_count": null,
   "metadata": {},
   "outputs": [
    {
     "name": "stdout",
     "output_type": "stream",
     "text": [
      "WARNING:tensorflow:From /opt/anaconda/anaconda3/lib/python3.6/site-packages/tensorflow/contrib/learn/python/learn/datasets/base.py:198: retry (from tensorflow.contrib.learn.python.learn.datasets.base) is deprecated and will be removed in a future version.\n",
      "Instructions for updating:\n",
      "Use the retry module or similar alternatives.\n"
     ]
    }
   ],
   "source": [
    "callbacks = get_callbacks('dpn92', \n",
    "                          checkpoints_dir=config.CHECKPOINTS_DIR, \n",
    "                          monitor='val_sparse_categorical_accuracy',\n",
    "                          log_dir=config.LOGS_DIR)"
   ]
  },
  {
   "cell_type": "markdown",
   "metadata": {},
   "source": [
    "# Train"
   ]
  },
  {
   "cell_type": "code",
   "execution_count": null,
   "metadata": {},
   "outputs": [],
   "source": [
    "model.fit_generator(train_gen,\n",
    "                    steps_per_epoch=5000, \n",
    "                    #initial_epoch=2,\n",
    "                    epochs=100, \n",
    "                    validation_data=valid_gen, \n",
    "                    validation_steps=10000, \n",
    "                    callbacks=callbacks)"
   ]
  }
 ],
 "metadata": {
  "kernelspec": {
   "display_name": "Python 3",
   "language": "python",
   "name": "python3"
  },
  "language_info": {
   "codemirror_mode": {
    "name": "ipython",
    "version": 3
   },
   "file_extension": ".py",
   "mimetype": "text/x-python",
   "name": "python",
   "nbconvert_exporter": "python",
   "pygments_lexer": "ipython3",
   "version": "3.6.3"
  }
 },
 "nbformat": 4,
 "nbformat_minor": 2
}
